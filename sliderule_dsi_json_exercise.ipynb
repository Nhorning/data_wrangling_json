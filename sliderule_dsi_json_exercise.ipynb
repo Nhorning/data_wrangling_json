{
 "cells": [
  {
   "cell_type": "markdown",
   "metadata": {},
   "source": [
    "# JSON examples and exercise\n",
    "****\n",
    "+ get familiar with packages for dealing with JSON\n",
    "+ study examples with JSON strings and files \n",
    "+ work on exercise to be completed and submitted \n",
    "****\n",
    "+ reference: http://pandas.pydata.org/pandas-docs/stable/io.html#io-json-reader\n",
    "+ data source: http://jsonstudio.com/resources/\n",
    "****"
   ]
  },
  {
   "cell_type": "code",
   "execution_count": 3,
   "metadata": {
    "collapsed": true
   },
   "outputs": [],
   "source": [
    "import pandas as pd"
   ]
  },
  {
   "cell_type": "markdown",
   "metadata": {},
   "source": [
    "## imports for Python, Pandas"
   ]
  },
  {
   "cell_type": "code",
   "execution_count": 6,
   "metadata": {
    "collapsed": true
   },
   "outputs": [],
   "source": [
    "import json\n",
    "from pandas.io.json import json_normalize"
   ]
  },
  {
   "cell_type": "markdown",
   "metadata": {},
   "source": [
    "## JSON example, with string\n",
    "\n",
    "+ demonstrates creation of normalized dataframes (tables) from nested json string\n",
    "+ source: http://pandas.pydata.org/pandas-docs/stable/io.html#normalization"
   ]
  },
  {
   "cell_type": "code",
   "execution_count": 4,
   "metadata": {
    "collapsed": true
   },
   "outputs": [],
   "source": [
    "# define json string\n",
    "data = [{'state': 'Florida', \n",
    "         'shortname': 'FL',\n",
    "         'info': {'governor': 'Rick Scott'},\n",
    "         'counties': [{'name': 'Dade', 'population': 12345},\n",
    "                      {'name': 'Broward', 'population': 40000},\n",
    "                      {'name': 'Palm Beach', 'population': 60000}]},\n",
    "        {'state': 'Ohio',\n",
    "         'shortname': 'OH',\n",
    "         'info': {'governor': 'John Kasich'},\n",
    "         'counties': [{'name': 'Summit', 'population': 1234},\n",
    "                      {'name': 'Cuyahoga', 'population': 1337}]}]"
   ]
  },
  {
   "cell_type": "code",
   "execution_count": 7,
   "metadata": {},
   "outputs": [
    {
     "data": {
      "text/html": [
       "<div style=\"max-height:1000px;max-width:1500px;overflow:auto;\">\n",
       "<table border=\"1\" class=\"dataframe\">\n",
       "  <thead>\n",
       "    <tr style=\"text-align: right;\">\n",
       "      <th></th>\n",
       "      <th>name</th>\n",
       "      <th>population</th>\n",
       "    </tr>\n",
       "  </thead>\n",
       "  <tbody>\n",
       "    <tr>\n",
       "      <th>0</th>\n",
       "      <td>Dade</td>\n",
       "      <td>12345</td>\n",
       "    </tr>\n",
       "    <tr>\n",
       "      <th>1</th>\n",
       "      <td>Broward</td>\n",
       "      <td>40000</td>\n",
       "    </tr>\n",
       "    <tr>\n",
       "      <th>2</th>\n",
       "      <td>Palm Beach</td>\n",
       "      <td>60000</td>\n",
       "    </tr>\n",
       "    <tr>\n",
       "      <th>3</th>\n",
       "      <td>Summit</td>\n",
       "      <td>1234</td>\n",
       "    </tr>\n",
       "    <tr>\n",
       "      <th>4</th>\n",
       "      <td>Cuyahoga</td>\n",
       "      <td>1337</td>\n",
       "    </tr>\n",
       "  </tbody>\n",
       "</table>\n",
       "</div>"
      ],
      "text/plain": [
       "         name  population\n",
       "0        Dade       12345\n",
       "1     Broward       40000\n",
       "2  Palm Beach       60000\n",
       "3      Summit        1234\n",
       "4    Cuyahoga        1337"
      ]
     },
     "execution_count": 7,
     "metadata": {},
     "output_type": "execute_result"
    }
   ],
   "source": [
    "# use normalization to create tables from nested element\n",
    "json_normalize(data, 'counties')"
   ]
  },
  {
   "cell_type": "code",
   "execution_count": 8,
   "metadata": {},
   "outputs": [
    {
     "data": {
      "text/html": [
       "<div style=\"max-height:1000px;max-width:1500px;overflow:auto;\">\n",
       "<table border=\"1\" class=\"dataframe\">\n",
       "  <thead>\n",
       "    <tr style=\"text-align: right;\">\n",
       "      <th></th>\n",
       "      <th>name</th>\n",
       "      <th>population</th>\n",
       "      <th>info.governor</th>\n",
       "      <th>state</th>\n",
       "      <th>shortname</th>\n",
       "    </tr>\n",
       "  </thead>\n",
       "  <tbody>\n",
       "    <tr>\n",
       "      <th>0</th>\n",
       "      <td>Dade</td>\n",
       "      <td>12345</td>\n",
       "      <td>Rick Scott</td>\n",
       "      <td>Florida</td>\n",
       "      <td>FL</td>\n",
       "    </tr>\n",
       "    <tr>\n",
       "      <th>1</th>\n",
       "      <td>Broward</td>\n",
       "      <td>40000</td>\n",
       "      <td>Rick Scott</td>\n",
       "      <td>Florida</td>\n",
       "      <td>FL</td>\n",
       "    </tr>\n",
       "    <tr>\n",
       "      <th>2</th>\n",
       "      <td>Palm Beach</td>\n",
       "      <td>60000</td>\n",
       "      <td>Rick Scott</td>\n",
       "      <td>Florida</td>\n",
       "      <td>FL</td>\n",
       "    </tr>\n",
       "    <tr>\n",
       "      <th>3</th>\n",
       "      <td>Summit</td>\n",
       "      <td>1234</td>\n",
       "      <td>John Kasich</td>\n",
       "      <td>Ohio</td>\n",
       "      <td>OH</td>\n",
       "    </tr>\n",
       "    <tr>\n",
       "      <th>4</th>\n",
       "      <td>Cuyahoga</td>\n",
       "      <td>1337</td>\n",
       "      <td>John Kasich</td>\n",
       "      <td>Ohio</td>\n",
       "      <td>OH</td>\n",
       "    </tr>\n",
       "  </tbody>\n",
       "</table>\n",
       "</div>"
      ],
      "text/plain": [
       "         name  population info.governor    state shortname\n",
       "0        Dade       12345    Rick Scott  Florida        FL\n",
       "1     Broward       40000    Rick Scott  Florida        FL\n",
       "2  Palm Beach       60000    Rick Scott  Florida        FL\n",
       "3      Summit        1234   John Kasich     Ohio        OH\n",
       "4    Cuyahoga        1337   John Kasich     Ohio        OH"
      ]
     },
     "execution_count": 8,
     "metadata": {},
     "output_type": "execute_result"
    }
   ],
   "source": [
    "# further populate tables created from nested element\n",
    "json_normalize(data, 'counties', ['state', 'shortname', ['info', 'governor']])"
   ]
  },
  {
   "cell_type": "markdown",
   "metadata": {},
   "source": [
    "****\n",
    "## JSON example, with file\n",
    "\n",
    "+ demonstrates reading in a json file as a string and as a table\n",
    "+ uses small sample file containing data about projects funded by the World Bank \n",
    "+ data source: http://jsonstudio.com/resources/"
   ]
  },
  {
   "cell_type": "code",
   "execution_count": 1,
   "metadata": {},
   "outputs": [
    {
     "ename": "NameError",
     "evalue": "name 'json' is not defined",
     "output_type": "error",
     "traceback": [
      "\u001b[0;31m---------------------------------------------------------------------------\u001b[0m",
      "\u001b[0;31mNameError\u001b[0m                                 Traceback (most recent call last)",
      "\u001b[0;32m<ipython-input-1-3ca90de6a5ff>\u001b[0m in \u001b[0;36m<module>\u001b[0;34m()\u001b[0m\n\u001b[1;32m      1\u001b[0m \u001b[0;31m# load json as string\u001b[0m\u001b[0;34m\u001b[0m\u001b[0;34m\u001b[0m\u001b[0m\n\u001b[0;32m----> 2\u001b[0;31m \u001b[0mjson\u001b[0m\u001b[0;34m.\u001b[0m\u001b[0mload\u001b[0m\u001b[0;34m(\u001b[0m\u001b[0;34m(\u001b[0m\u001b[0mopen\u001b[0m\u001b[0;34m(\u001b[0m\u001b[0;34m'data/world_bank_projects_less.json'\u001b[0m\u001b[0;34m)\u001b[0m\u001b[0;34m)\u001b[0m\u001b[0;34m)\u001b[0m\u001b[0;34m\u001b[0m\u001b[0m\n\u001b[0m",
      "\u001b[0;31mNameError\u001b[0m: name 'json' is not defined"
     ]
    }
   ],
   "source": [
    "# load json as string\n",
    "json.load((open('data/world_bank_projects_less.json')))"
   ]
  },
  {
   "cell_type": "code",
   "execution_count": 2,
   "metadata": {},
   "outputs": [
    {
     "ename": "NameError",
     "evalue": "name 'pd' is not defined",
     "output_type": "error",
     "traceback": [
      "\u001b[0;31m---------------------------------------------------------------------------\u001b[0m",
      "\u001b[0;31mNameError\u001b[0m                                 Traceback (most recent call last)",
      "\u001b[0;32m<ipython-input-2-6ae7d51df860>\u001b[0m in \u001b[0;36m<module>\u001b[0;34m()\u001b[0m\n\u001b[1;32m      1\u001b[0m \u001b[0;31m# load as Pandas dataframe\u001b[0m\u001b[0;34m\u001b[0m\u001b[0;34m\u001b[0m\u001b[0m\n\u001b[0;32m----> 2\u001b[0;31m \u001b[0msample_json_df\u001b[0m \u001b[0;34m=\u001b[0m \u001b[0mpd\u001b[0m\u001b[0;34m.\u001b[0m\u001b[0mread_json\u001b[0m\u001b[0;34m(\u001b[0m\u001b[0;34m'data/world_bank_projects_less.json'\u001b[0m\u001b[0;34m)\u001b[0m\u001b[0;34m\u001b[0m\u001b[0m\n\u001b[0m\u001b[1;32m      3\u001b[0m \u001b[0msample_json_df\u001b[0m\u001b[0;34m\u001b[0m\u001b[0m\n",
      "\u001b[0;31mNameError\u001b[0m: name 'pd' is not defined"
     ]
    }
   ],
   "source": [
    "# load as Pandas dataframe\n",
    "sample_json_df = pd.read_json('data/world_bank_projects_less.json')\n",
    "sample_json_df"
   ]
  },
  {
   "cell_type": "markdown",
   "metadata": {},
   "source": [
    "****\n",
    "## JSON exercise\n",
    "\n",
    "Using data in file 'data/world_bank_projects.json' and the techniques demonstrated above,\n",
    "1. Find the 10 countries with most projects\n",
    "2. Find the top 10 major project themes (using column 'mjtheme_namecode')\n",
    "3. In 2. above you will notice that some entries have only the code and the name is missing. Create a dataframe with the missing names filled in."
   ]
  },
  {
   "cell_type": "code",
   "execution_count": 3,
   "metadata": {
    "collapsed": true
   },
   "outputs": [],
   "source": [
    "# Exercise 1. - Find the 10 countries with the most projects\n",
    "import pandas as pd # Import the modules\n",
    "import json\n",
    "from pandas.io.json import json_normalize\n",
    "import matplotlib as plt"
   ]
  },
  {
   "cell_type": "code",
   "execution_count": 4,
   "metadata": {
    "collapsed": true
   },
   "outputs": [],
   "source": [
    "wb_data = 'data/world_bank_projects.json' # load datapath into variable"
   ]
  },
  {
   "cell_type": "code",
   "execution_count": 5,
   "metadata": {
    "collapsed": true
   },
   "outputs": [],
   "source": [
    "wb_json = json.load((open(wb_data))) # load json file"
   ]
  },
  {
   "cell_type": "code",
   "execution_count": 6,
   "metadata": {},
   "outputs": [
    {
     "name": "stdout",
     "output_type": "stream",
     "text": [
      "\n",
      "---\n",
      "\n",
      "key: sector    Value:  [{'Name': 'Primary education'}, {'Name': 'Secondary education'}, {'Name': 'Public administration- Other social services'}, {'Name': 'Tertiary education'}]\n",
      "key: supplementprojectflg    Value:  N\n",
      "key: projectfinancialtype    Value:  IDA\n",
      "key: prodline    Value:  PE\n",
      "key: mjtheme    Value:  ['Human development']\n",
      "key: idacommamt    Value:  130000000\n",
      "key: impagency    Value:  MINISTRY OF EDUCATION\n",
      "key: project_name    Value:  Ethiopia General Education Quality Improvement Project II\n",
      "key: mjthemecode    Value:  8,11\n",
      "key: closingdate    Value:  2018-07-07T00:00:00Z\n",
      "key: totalcommamt    Value:  130000000\n",
      "key: id    Value:  P129828\n",
      "key: mjsector_namecode    Value:  [{'code': 'EX', 'name': 'Education'}, {'code': 'EX', 'name': 'Education'}, {'code': 'BX', 'name': 'Public Administration, Law, and Justice'}, {'code': 'EX', 'name': 'Education'}]\n",
      "key: docty    Value:  Project Information Document,Indigenous Peoples Plan,Project Information Document\n",
      "key: sector1    Value:  {'Percent': 46, 'Name': 'Primary education'}\n",
      "key: lendinginstr    Value:  Investment Project Financing\n",
      "key: countrycode    Value:  ET\n",
      "key: sector2    Value:  {'Percent': 26, 'Name': 'Secondary education'}\n",
      "key: totalamt    Value:  130000000\n",
      "key: mjtheme_namecode    Value:  [{'code': '8', 'name': 'Human development'}, {'code': '11', 'name': ''}]\n",
      "key: boardapprovaldate    Value:  2013-11-12T00:00:00Z\n",
      "key: countryshortname    Value:  Ethiopia\n",
      "key: sector4    Value:  {'Percent': 12, 'Name': 'Tertiary education'}\n",
      "key: prodlinetext    Value:  IBRD/IDA\n",
      "key: productlinetype    Value:  L\n",
      "key: regionname    Value:  Africa\n",
      "key: status    Value:  Active\n",
      "key: country_namecode    Value:  Federal Democratic Republic of Ethiopia!$!ET\n",
      "key: envassesmentcategorycode    Value:  C\n",
      "key: project_abstract    Value:  {'cdata': 'The development objective of the Second Phase of General Education Quality Improvement Project for Ethiopia is to improve learning conditions in primary and secondary schools and strengthen institutions at different levels of educational administration. The project has six components. The first component is curriculum, textbooks, assessment, examinations, and inspection. This component will support improvement of learning conditions in grades KG-12 by providing increased access to teaching and learning materials and through improvements to the curriculum by assessing the strengths and weaknesses of the current curriculum. This component has following four sub-components: (i) curriculum reform and implementation; (ii) teaching and learning materials; (iii) assessment and examinations; and (iv) inspection. The second component is teacher development program (TDP). This component will support improvements in learning conditions in both primary and secondary schools by advancing the quality of teaching in general education through: (a) enhancing the training of pre-service teachers in teacher education institutions; and (b) improving the quality of in-service teacher training. This component has following three sub-components: (i) pre-service teacher training; (ii) in-service teacher training; and (iii) licensing and relicensing of teachers and school leaders. The third component is school improvement plan. This component will support the strengthening of school planning in order to improve learning outcomes, and to partly fund the school improvement plans through school grants. It has following two sub-components: (i) school improvement plan; and (ii) school grants. The fourth component is management and capacity building, including education management information systems (EMIS). This component will support management and capacity building aspect of the project. This component has following three sub-components: (i) capacity building for education planning and management; (ii) capacity building for school planning and management; and (iii) EMIS. The fifth component is improving the quality of learning and teaching in secondary schools and universities through the use of information and communications technology (ICT). It has following five sub-components: (i) national policy and institution for ICT in general education; (ii) national ICT infrastructure improvement plan for general education; (iii) develop an integrated monitoring, evaluation, and learning system specifically for the ICT component; (iv) teacher professional development in the use of ICT; and (v) provision of limited number of e-Braille display readers with the possibility to scale up to all secondary education schools based on the successful implementation and usage of the readers. The sixth component is program coordination, monitoring and evaluation, and communication. It will support institutional strengthening by developing capacities in all aspects of program coordination, monitoring and evaluation; a new sub-component on communications will support information sharing for better management and accountability. It has following three sub-components: (i) program coordination; (ii) monitoring and evaluation (M and E); and (iii) communication.'}\n",
      "key: approvalfy    Value:  1999\n",
      "key: projectdocs    Value:  [{'DocDate': '28-AUG-2013', 'EntityID': '090224b081e545fb_1_0', 'DocURL': 'http://www-wds.worldbank.org/servlet/WDSServlet?pcont=details&eid=090224b081e545fb_1_0', 'DocType': 'PID', 'DocTypeDesc': 'Project Information Document (PID),  Vol.'}, {'DocDate': '01-JUL-2013', 'EntityID': '000442464_20130920111729', 'DocURL': 'http://www-wds.worldbank.org/servlet/WDSServlet?pcont=details&eid=000442464_20130920111729', 'DocType': 'IP', 'DocTypeDesc': 'Indigenous Peoples Plan (IP),  Vol.1 of 1'}, {'DocDate': '22-NOV-2012', 'EntityID': '090224b0817b19e2_1_0', 'DocURL': 'http://www-wds.worldbank.org/servlet/WDSServlet?pcont=details&eid=090224b0817b19e2_1_0', 'DocType': 'PID', 'DocTypeDesc': 'Project Information Document (PID),  Vol.'}]\n",
      "key: lendprojectcost    Value:  550000000\n",
      "key: lendinginstrtype    Value:  IN\n",
      "key: theme1    Value:  {'Percent': 100, 'Name': 'Education for all'}\n",
      "key: grantamt    Value:  0\n",
      "key: themecode    Value:  65\n",
      "key: borrower    Value:  FEDERAL DEMOCRATIC REPUBLIC OF ETHIOPIA\n",
      "key: sectorcode    Value:  ET,BS,ES,EP\n",
      "key: sector3    Value:  {'Percent': 16, 'Name': 'Public administration- Other social services'}\n",
      "key: majorsector_percent    Value:  [{'Percent': 46, 'Name': 'Education'}, {'Percent': 26, 'Name': 'Education'}, {'Percent': 16, 'Name': 'Public Administration, Law, and Justice'}, {'Percent': 12, 'Name': 'Education'}]\n",
      "key: board_approval_month    Value:  November\n",
      "key: theme_namecode    Value:  [{'code': '65', 'name': 'Education for all'}]\n",
      "key: countryname    Value:  Federal Democratic Republic of Ethiopia\n",
      "key: url    Value:  http://www.worldbank.org/projects/P129828/ethiopia-general-education-quality-improvement-project-ii?lang=en\n",
      "key: source    Value:  IBRD\n",
      "key: projectstatusdisplay    Value:  Active\n",
      "key: ibrdcommamt    Value:  0\n",
      "key: sector_namecode    Value:  [{'code': 'EP', 'name': 'Primary education'}, {'code': 'ES', 'name': 'Secondary education'}, {'code': 'BS', 'name': 'Public administration- Other social services'}, {'code': 'ET', 'name': 'Tertiary education'}]\n",
      "key: _id    Value:  {'$oid': '52b213b38594d8a2be17c780'}\n",
      "\n",
      "---\n",
      "\n",
      "key: sector    Value:  [{'Name': 'Public administration- Other social services'}, {'Name': 'General public administration sector'}]\n",
      "key: supplementprojectflg    Value:  N\n",
      "key: projectfinancialtype    Value:  OTHER\n",
      "key: prodline    Value:  RE\n",
      "key: mjtheme    Value:  ['Economic management', 'Social protection and risk management']\n",
      "key: idacommamt    Value:  0\n",
      "key: impagency    Value:  MINISTRY OF FINANCE\n",
      "key: project_name    Value:  TN: DTF Social Protection Reforms Support\n",
      "key: mjthemecode    Value:  1,6\n",
      "key: totalcommamt    Value:  4700000\n",
      "key: id    Value:  P144674\n",
      "key: mjsector_namecode    Value:  [{'code': 'BX', 'name': 'Public Administration, Law, and Justice'}, {'code': 'BX', 'name': 'Public Administration, Law, and Justice'}]\n",
      "key: docty    Value:  Project Information Document,Integrated Safeguards Data Sheet,Integrated Safeguards Data Sheet,Project Information Document,Integrated Safeguards Data Sheet,Project Information Document\n",
      "key: sector1    Value:  {'Percent': 70, 'Name': 'Public administration- Other social services'}\n",
      "key: lendinginstr    Value:  Specific Investment Loan\n",
      "key: countrycode    Value:  TN\n",
      "key: sector2    Value:  {'Percent': 30, 'Name': 'General public administration sector'}\n",
      "key: totalamt    Value:  0\n",
      "key: mjtheme_namecode    Value:  [{'code': '1', 'name': 'Economic management'}, {'code': '6', 'name': 'Social protection and risk management'}]\n",
      "key: boardapprovaldate    Value:  2013-11-04T00:00:00Z\n",
      "key: countryshortname    Value:  Tunisia\n",
      "key: source    Value:  IBRD\n",
      "key: prodlinetext    Value:  Recipient Executed Activities\n",
      "key: productlinetype    Value:  L\n",
      "key: regionname    Value:  Middle East and North Africa\n",
      "key: status    Value:  Active\n",
      "key: country_namecode    Value:  Republic of Tunisia!$!TN\n",
      "key: envassesmentcategorycode    Value:  C\n",
      "key: approvalfy    Value:  2015\n",
      "key: projectdocs    Value:  [{'DocDate': '29-MAR-2013', 'EntityID': '000333037_20131024115616', 'DocURL': 'http://www-wds.worldbank.org/servlet/WDSServlet?pcont=details&eid=000333037_20131024115616', 'DocType': 'PID', 'DocTypeDesc': 'Project Information Document (PID),  Vol.1 of 1'}, {'DocDate': '29-MAR-2013', 'EntityID': '000356161_20131024151611', 'DocURL': 'http://www-wds.worldbank.org/servlet/WDSServlet?pcont=details&eid=000356161_20131024151611', 'DocType': 'ISDS', 'DocTypeDesc': 'Integrated Safeguards Data Sheet (ISDS),  Vol.1 of 1'}, {'DocDate': '29-MAR-2013', 'EntityID': '000442464_20131031112136', 'DocURL': 'http://www-wds.worldbank.org/servlet/WDSServlet?pcont=details&eid=000442464_20131031112136', 'DocType': 'ISDS', 'DocTypeDesc': 'Integrated Safeguards Data Sheet (ISDS),  Vol.1 of 1'}, {'DocDate': '29-MAR-2013', 'EntityID': '000333037_20131031105716', 'DocURL': 'http://www-wds.worldbank.org/servlet/WDSServlet?pcont=details&eid=000333037_20131031105716', 'DocType': 'PID', 'DocTypeDesc': 'Project Information Document (PID),  Vol.1 of 1'}, {'DocDate': '16-JAN-2013', 'EntityID': '000356161_20130305113209', 'DocURL': 'http://www-wds.worldbank.org/servlet/WDSServlet?pcont=details&eid=000356161_20130305113209', 'DocType': 'ISDS', 'DocTypeDesc': 'Integrated Safeguards Data Sheet (ISDS),  Vol.1 of 1'}, {'DocDate': '16-JAN-2013', 'EntityID': '000356161_20130305113716', 'DocURL': 'http://www-wds.worldbank.org/servlet/WDSServlet?pcont=details&eid=000356161_20130305113716', 'DocType': 'PID', 'DocTypeDesc': 'Project Information Document (PID),  Vol.1 of 1'}]\n",
      "key: lendprojectcost    Value:  5700000\n",
      "key: lendinginstrtype    Value:  IN\n",
      "key: theme1    Value:  {'Percent': 30, 'Name': 'Other economic management'}\n",
      "key: grantamt    Value:  4700000\n",
      "key: themecode    Value:  54,24\n",
      "key: borrower    Value:  GOVERNMENT OF TUNISIA\n",
      "key: sectorcode    Value:  BZ,BS\n",
      "key: majorsector_percent    Value:  [{'Percent': 70, 'Name': 'Public Administration, Law, and Justice'}, {'Percent': 30, 'Name': 'Public Administration, Law, and Justice'}]\n",
      "key: board_approval_month    Value:  November\n",
      "key: theme_namecode    Value:  [{'code': '24', 'name': 'Other economic management'}, {'code': '54', 'name': 'Social safety nets'}]\n",
      "key: countryname    Value:  Republic of Tunisia\n",
      "key: url    Value:  http://www.worldbank.org/projects/P144674?lang=en\n",
      "key: projectstatusdisplay    Value:  Active\n",
      "key: ibrdcommamt    Value:  0\n",
      "key: sector_namecode    Value:  [{'code': 'BS', 'name': 'Public administration- Other social services'}, {'code': 'BZ', 'name': 'General public administration sector'}]\n",
      "key: _id    Value:  {'$oid': '52b213b38594d8a2be17c781'}\n"
     ]
    }
   ],
   "source": [
    "#print out list of keys and values from two or 3 dicts in the list of dicts\n",
    "for dict in wb_json[:2]:\n",
    "    print('\\n---\\n')\n",
    "    for key in dict.keys():\n",
    "        print('key: '+ key + '    Value: ', dict[key])"
   ]
  },
  {
   "cell_type": "code",
   "execution_count": 7,
   "metadata": {},
   "outputs": [
    {
     "data": {
      "text/html": [
       "<div>\n",
       "<style>\n",
       "    .dataframe thead tr:only-child th {\n",
       "        text-align: right;\n",
       "    }\n",
       "\n",
       "    .dataframe thead th {\n",
       "        text-align: left;\n",
       "    }\n",
       "\n",
       "    .dataframe tbody tr th {\n",
       "        vertical-align: top;\n",
       "    }\n",
       "</style>\n",
       "<table border=\"1\" class=\"dataframe\">\n",
       "  <thead>\n",
       "    <tr style=\"text-align: right;\">\n",
       "      <th></th>\n",
       "      <th>0</th>\n",
       "      <th>id</th>\n",
       "      <th>project_name</th>\n",
       "      <th>countrycode</th>\n",
       "      <th>countryshortname</th>\n",
       "    </tr>\n",
       "  </thead>\n",
       "  <tbody>\n",
       "    <tr>\n",
       "      <th>0</th>\n",
       "      <td>$oid</td>\n",
       "      <td>P129828</td>\n",
       "      <td>Ethiopia General Education Quality Improvement...</td>\n",
       "      <td>ET</td>\n",
       "      <td>Ethiopia</td>\n",
       "    </tr>\n",
       "    <tr>\n",
       "      <th>1</th>\n",
       "      <td>$oid</td>\n",
       "      <td>P144674</td>\n",
       "      <td>TN: DTF Social Protection Reforms Support</td>\n",
       "      <td>TN</td>\n",
       "      <td>Tunisia</td>\n",
       "    </tr>\n",
       "    <tr>\n",
       "      <th>2</th>\n",
       "      <td>$oid</td>\n",
       "      <td>P145310</td>\n",
       "      <td>Tuvalu Aviation Investment Project - Additiona...</td>\n",
       "      <td>TV</td>\n",
       "      <td>Tuvalu</td>\n",
       "    </tr>\n",
       "    <tr>\n",
       "      <th>3</th>\n",
       "      <td>$oid</td>\n",
       "      <td>P144665</td>\n",
       "      <td>Gov't and Civil Society Organization Partnership</td>\n",
       "      <td>RY</td>\n",
       "      <td>Yemen, Republic of</td>\n",
       "    </tr>\n",
       "    <tr>\n",
       "      <th>4</th>\n",
       "      <td>$oid</td>\n",
       "      <td>P144933</td>\n",
       "      <td>Second Private Sector Competitiveness and Econ...</td>\n",
       "      <td>LS</td>\n",
       "      <td>Lesotho</td>\n",
       "    </tr>\n",
       "  </tbody>\n",
       "</table>\n",
       "</div>"
      ],
      "text/plain": [
       "      0       id                                       project_name  \\\n",
       "0  $oid  P129828  Ethiopia General Education Quality Improvement...   \n",
       "1  $oid  P144674          TN: DTF Social Protection Reforms Support   \n",
       "2  $oid  P145310  Tuvalu Aviation Investment Project - Additiona...   \n",
       "3  $oid  P144665   Gov't and Civil Society Organization Partnership   \n",
       "4  $oid  P144933  Second Private Sector Competitiveness and Econ...   \n",
       "\n",
       "  countrycode    countryshortname  \n",
       "0          ET            Ethiopia  \n",
       "1          TN             Tunisia  \n",
       "2          TV              Tuvalu  \n",
       "3          RY  Yemen, Republic of  \n",
       "4          LS             Lesotho  "
      ]
     },
     "execution_count": 7,
     "metadata": {},
     "output_type": "execute_result"
    }
   ],
   "source": [
    "#import the jason data as a data frame using some relivant keys\n",
    "wb_projects = json_normalize(wb_json, '_id', ['id','project_name','countrycode','countryshortname'],errors='ignore') # create table from json list of dicts\n",
    "wb_projects.head() #print head of the table of projects"
   ]
  },
  {
   "cell_type": "code",
   "execution_count": 8,
   "metadata": {},
   "outputs": [
    {
     "name": "stdout",
     "output_type": "stream",
     "text": [
      "Top 10 countries by number of projects:\n",
      "\n",
      "                    No. Projects\n",
      "Country                         \n",
      "Indonesia                     19\n",
      "China                         19\n",
      "Vietnam                       17\n",
      "India                         16\n",
      "Yemen, Republic of            13\n",
      "Nepal                         12\n",
      "Bangladesh                    12\n",
      "Morocco                       12\n",
      "Mozambique                    11\n",
      "Pakistan                       9\n"
     ]
    },
    {
     "data": {
      "image/png": "[encoded data removed]",
      "text/plain": [
       "<matplotlib.figure.Figure at 0x7f6f68751f28>"
      ]
     },
     "metadata": {},
     "output_type": "display_data"
    }
   ],
   "source": [
    "#group countries by country name and count up the number of projects by unique ID no. \n",
    "project_count = wb_projects.groupby(['countryshortname'])['id'].count()\n",
    "project_count = project_count.sort_values(ascending=False) #sort by number of projects\n",
    "project_count.pop('Africa') #Africa is not a country, lets remove it\n",
    "project_count.name = 'No. Projects' #re-name the series\n",
    "\n",
    "#create a top 10 data frame by slicing the project count series\n",
    "top10df = pd.DataFrame(project_count[:10])\n",
    "top10df.index.name = 'Country'\n",
    "\n",
    "#print the top 10 dataframe\n",
    "print('Top 10 countries by number of projects:\\n')\n",
    "print(top10df)\n",
    "\n",
    "#The axis lables of the plot won't look very good with \"Yemen, Republic of\" in there. Let's rename it. \n",
    "indexlist = top10df.index.tolist()\n",
    "indexlist[4] = 'Yemen'\n",
    "top10df.index = indexlist\n",
    "\n",
    "#Plot the top 10 countries\n",
    "top10df.plot(kind='bar', rot=50)\n",
    "plt.pyplot.show()"
   ]
  },
  {
   "cell_type": "code",
   "execution_count": 9,
   "metadata": {
    "collapsed": true
   },
   "outputs": [],
   "source": [
    "#Exercise 2 and 3 find the top 10 major project themes using column 'mjtheme_namecode'\n",
    "#Create a dataframe with the missing names filled in.\n",
    "\n",
    "wbdf = pd.read_json(wb_data,) # read wb json data into data frame"
   ]
  },
  {
   "cell_type": "code",
   "execution_count": 32,
   "metadata": {},
   "outputs": [
    {
     "data": {
      "text/html": [
       "<div>\n",
       "<style>\n",
       "    .dataframe thead tr:only-child th {\n",
       "        text-align: right;\n",
       "    }\n",
       "\n",
       "    .dataframe thead th {\n",
       "        text-align: left;\n",
       "    }\n",
       "\n",
       "    .dataframe tbody tr th {\n",
       "        vertical-align: top;\n",
       "    }\n",
       "</style>\n",
       "<table border=\"1\" class=\"dataframe\">\n",
       "  <thead>\n",
       "    <tr style=\"text-align: right;\">\n",
       "      <th></th>\n",
       "      <th>id</th>\n",
       "      <th>countrycode</th>\n",
       "      <th>countryshortname</th>\n",
       "      <th>mjtheme_namecode</th>\n",
       "    </tr>\n",
       "  </thead>\n",
       "  <tbody>\n",
       "    <tr>\n",
       "      <th>0</th>\n",
       "      <td>P129828</td>\n",
       "      <td>ET</td>\n",
       "      <td>Ethiopia</td>\n",
       "      <td>[{'code': '8', 'name': 'Human development'}, {...</td>\n",
       "    </tr>\n",
       "    <tr>\n",
       "      <th>1</th>\n",
       "      <td>P144674</td>\n",
       "      <td>TN</td>\n",
       "      <td>Tunisia</td>\n",
       "      <td>[{'code': '1', 'name': 'Economic management'},...</td>\n",
       "    </tr>\n",
       "    <tr>\n",
       "      <th>2</th>\n",
       "      <td>P145310</td>\n",
       "      <td>TV</td>\n",
       "      <td>Tuvalu</td>\n",
       "      <td>[{'code': '5', 'name': 'Trade and integration'...</td>\n",
       "    </tr>\n",
       "    <tr>\n",
       "      <th>3</th>\n",
       "      <td>P144665</td>\n",
       "      <td>RY</td>\n",
       "      <td>Yemen, Republic of</td>\n",
       "      <td>[{'code': '7', 'name': 'Social dev/gender/incl...</td>\n",
       "    </tr>\n",
       "    <tr>\n",
       "      <th>4</th>\n",
       "      <td>P144933</td>\n",
       "      <td>LS</td>\n",
       "      <td>Lesotho</td>\n",
       "      <td>[{'code': '5', 'name': 'Trade and integration'...</td>\n",
       "    </tr>\n",
       "  </tbody>\n",
       "</table>\n",
       "</div>"
      ],
      "text/plain": [
       "        id countrycode    countryshortname  \\\n",
       "0  P129828          ET            Ethiopia   \n",
       "1  P144674          TN             Tunisia   \n",
       "2  P145310          TV              Tuvalu   \n",
       "3  P144665          RY  Yemen, Republic of   \n",
       "4  P144933          LS             Lesotho   \n",
       "\n",
       "                                    mjtheme_namecode  \n",
       "0  [{'code': '8', 'name': 'Human development'}, {...  \n",
       "1  [{'code': '1', 'name': 'Economic management'},...  \n",
       "2  [{'code': '5', 'name': 'Trade and integration'...  \n",
       "3  [{'code': '7', 'name': 'Social dev/gender/incl...  \n",
       "4  [{'code': '5', 'name': 'Trade and integration'...  "
      ]
     },
     "execution_count": 32,
     "metadata": {},
     "output_type": "execute_result"
    }
   ],
   "source": [
    "themedf = wbdf[['id','countrycode','countryshortname','mjtheme_namecode']] #slice df into relevant columns\n",
    "themedf.head()"
   ]
  },
  {
   "cell_type": "code",
   "execution_count": 33,
   "metadata": {},
   "outputs": [
    {
     "name": "stdout",
     "output_type": "stream",
     "text": [
      "[[{'code': '8', 'name': 'Human development'}, {'code': '11', 'name': ''}], [{'code': '1', 'name': 'Economic management'}, {'code': '6', 'name': 'Social protection and risk management'}], [{'code': '5', 'name': 'Trade and integration'}, {'code': '2', 'name': 'Public sector governance'}, {'code': '11', 'name': 'Environment and natural resources management'}, {'code': '6', 'name': 'Social protection and risk management'}], [{'code': '7', 'name': 'Social dev/gender/inclusion'}, {'code': '7', 'name': 'Social dev/gender/inclusion'}], [{'code': '5', 'name': 'Trade and integration'}, {'code': '4', 'name': 'Financial and private sector development'}], [{'code': '6', 'name': 'Social protection and risk management'}, {'code': '6', 'name': ''}], [{'code': '2', 'name': 'Public sector governance'}, {'code': '4', 'name': 'Financial and private sector development'}], [{'code': '11', 'name': 'Environment and natural resources management'}, {'code': '8', 'name': ''}], [{'code': '10', 'name': 'Rural development'}, {'code': '7', 'name': ''}], [{'code': '2', 'name': 'Public sector governance'}, {'code': '2', 'name': 'Public sector governance'}, {'code': '2', 'name': 'Public sector governance'}]]\n"
     ]
    }
   ],
   "source": [
    "#turn the column into a list\n",
    "themelist = themedf.mjtheme_namecode.tolist()\n",
    "print(themelist[:10])"
   ]
  },
  {
   "cell_type": "code",
   "execution_count": 54,
   "metadata": {},
   "outputs": [
    {
     "name": "stdout",
     "output_type": "stream",
     "text": [
      "                                                    Name Project Count\n",
      "Theme Code                                                            \n",
      "1                                    Economic management            38\n",
      "2                               Public sector governance           199\n",
      "3                                            Rule of law            15\n",
      "4               Financial and private sector development           146\n",
      "5                                  Trade and integration            77\n",
      "6                  Social protection and risk management           168\n",
      "7                            Social dev/gender/inclusion           130\n",
      "8                                      Human development           210\n",
      "9                                      Urban development            50\n",
      "10                                     Rural development           216\n",
      "11          Environment and natural resources management           250\n"
     ]
    }
   ],
   "source": [
    "#Create a df of the themes includeing their names\n",
    "themedf = pd.DataFrame(index=range(12),columns=['Name','Project Count'])\n",
    "for value in range(12):\n",
    "    themedf.iloc[value][1] = 0\n",
    "\n",
    "#Loop through the list of dictionaries and populate theme df with a count themes by code no. \n",
    "for lst in themelist:\n",
    "    for dct in lst:\n",
    "        themedf.iloc[int(dct['code'])][1] += 1\n",
    "        if dct['name'] != '':\n",
    "            themedf.iloc[int(dct['code'])][0] = dct['name'] # Populate names by code no. if they are not blank\n",
    "\n",
    "#clean up the df\n",
    "themedf.index.name = 'Theme Code' #rename the index\n",
    "themedf.dropna(axis=0, how='any', inplace=True) #drop out missing values\n",
    "print(themedf)"
   ]
  },
  {
   "cell_type": "code",
   "execution_count": 55,
   "metadata": {},
   "outputs": [
    {
     "name": "stdout",
     "output_type": "stream",
     "text": [
      "Top 10 Major Project Themes\n",
      "                                                    Name Project Count\n",
      "Theme Code                                                            \n",
      "11          Environment and natural resources management           250\n",
      "10                                     Rural development           216\n",
      "8                                      Human development           210\n",
      "2                               Public sector governance           199\n",
      "6                  Social protection and risk management           168\n",
      "4               Financial and private sector development           146\n",
      "7                            Social dev/gender/inclusion           130\n",
      "5                                  Trade and integration            77\n",
      "9                                      Urban development            50\n",
      "1                                    Economic management            38\n"
     ]
    },
    {
     "data": {
      "image/png": "[encoded data removed]",
      "text/plain": [
       "<matplotlib.figure.Figure at 0x7f6f5f36e828>"
      ]
     },
     "metadata": {},
     "output_type": "display_data"
    }
   ],
   "source": [
    "#Print and plot the top 10 themes.\n",
    "top10themesdf = themedf.sort_values('Project Count', ascending=False)[:10]\n",
    "print('Top 10 Major Project Themes')\n",
    "print(top10themesdf)\n",
    "\n",
    "top10themesdf.plot(kind='barh', x='Name', y='Project Count', title='Top 10 Major Project Themes')\n",
    "plt.pyplot.show()"
   ]
  },
  {
   "cell_type": "code",
   "execution_count": null,
   "metadata": {
    "collapsed": true
   },
   "outputs": [],
   "source": []
  }
 ],
 "metadata": {
  "kernelspec": {
   "display_name": "Python 3",
   "language": "python",
   "name": "python3"
  },
  "language_info": {
   "codemirror_mode": {
    "name": "ipython",
    "version": 3
   },
   "file_extension": ".py",
   "mimetype": "text/x-python",
   "name": "python",
   "nbconvert_exporter": "python",
   "pygments_lexer": "ipython3",
   "version": "3.6.3"
  }
 },
 "nbformat": 4,
 "nbformat_minor": 1
}
